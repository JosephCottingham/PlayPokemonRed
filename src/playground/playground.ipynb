{
 "cells": [
  {
   "cell_type": "code",
   "execution_count": null,
   "metadata": {},
   "outputs": [],
   "source": [
    "import numpy as np\n",
    "\n",
    "# Create a 1D array with values from 0 to 159\n",
    "arr_1d = np.arange(160)\n",
    "\n",
    "# Reshape the 1D array into a 2D array with dimensions (160, 143)\n",
    "arr_2d = arr_1d.reshape(160, 143)\n",
    "\n",
    "# Print the resulting array\n",
    "print(arr_2d)\n"
   ]
  }
 ],
 "metadata": {
  "language_info": {
   "name": "python"
  }
 },
 "nbformat": 4,
 "nbformat_minor": 2
}
